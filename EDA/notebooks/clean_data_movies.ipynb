{
 "cells": [
  {
   "cell_type": "code",
   "execution_count": 1,
   "id": "187acdca-d93a-4ebf-aeb7-9a7507653319",
   "metadata": {},
   "outputs": [
    {
     "name": "stderr",
     "output_type": "stream",
     "text": [
      "/opt/conda/envs/recommender-env/lib/python3.9/site-packages/tqdm/auto.py:21: TqdmWarning: IProgress not found. Please update jupyter and ipywidgets. See https://ipywidgets.readthedocs.io/en/stable/user_install.html\n",
      "  from .autonotebook import tqdm as notebook_tqdm\n"
     ]
    },
    {
     "data": {
      "text/html": [
       "\n",
       "            <div>\n",
       "                <ins><a href=\"https://ydata.ai/register\">Upgrade to ydata-sdk</a></ins>\n",
       "                <p>\n",
       "                    Improve your data and profiling with ydata-sdk, featuring data quality scoring, redundancy detection, outlier identification, text validation, and synthetic data generation.\n",
       "                </p>\n",
       "            </div>\n",
       "            "
      ],
      "text/plain": [
       "<IPython.core.display.HTML object>"
      ]
     },
     "metadata": {},
     "output_type": "display_data"
    }
   ],
   "source": [
    "import pandas as pd\n",
    "from ydata_profiling import ProfileReport\n",
    "from pyspark.sql import SparkSession\n",
    "\n",
    "spark = SparkSession.builder \\\n",
    "    .appName(\"Clean-Recommender\") \\\n",
    "    .config(\"spark.driver.memory\", \"12g\") \\\n",
    "    .getOrCreate()"
   ]
  },
  {
   "cell_type": "markdown",
   "id": "8918eaae-5f65-4b69-a9d8-a01f229a7ac9",
   "metadata": {},
   "source": [
    "Genera el Profile Report"
   ]
  },
  {
   "cell_type": "code",
   "execution_count": 2,
   "id": "53f8a5dc-6974-45f6-b135-100505fef3da",
   "metadata": {},
   "outputs": [],
   "source": [
    "movies_pd = pd.read_csv(\"../data/raw_data/peliculas.csv\")"
   ]
  },
  {
   "cell_type": "code",
   "execution_count": 3,
   "id": "c6ef423c-94dc-4ae2-b8b8-72f2dc2ce0ec",
   "metadata": {},
   "outputs": [],
   "source": [
    "# profile = ProfileReport(movies_pd, title=\"Movies Profiling Report\", explorative=True)\n",
    "# profile.to_file(\"../data/ProfileReport/peliculas_report.html\")"
   ]
  },
  {
   "cell_type": "code",
   "execution_count": 4,
   "id": "4f7a3950-9b4f-4674-89bc-2f79521dab62",
   "metadata": {},
   "outputs": [],
   "source": [
    "# movies = spark.read.csv(\"../data/raw_data/peliculas.csv\", header=True, inferSchema=True, sep=\",\")\n",
    "movies = spark.createDataFrame(movies_pd)\n",
    "# ratings = spark.read.csv(\"../data/raw_data/ratings.csv\", header=True, inferSchema=True, sep=\",\")\n",
    "# links = spark.read.csv(\"../data/raw_data/links.csv\", header=True, inferSchema=True, sep=\",\")"
   ]
  },
  {
   "cell_type": "markdown",
   "id": "725e23b8-fd5d-43fb-a6e7-db3e0b6078bb",
   "metadata": {},
   "source": [
    "Limpieza de datos"
   ]
  },
  {
   "cell_type": "code",
   "execution_count": 5,
   "id": "7a6471ac-6b47-4d4f-9d3d-e972b8d3e6ae",
   "metadata": {},
   "outputs": [],
   "source": [
    "from pyspark.sql.types import ArrayType, StructType, \\\n",
    "StructField, IntegerType, StringType\n",
    "from pyspark.sql.functions import col, regexp_replace, \\\n",
    "from_json, expr, explode, trim, to_date, concat_ws"
   ]
  },
  {
   "cell_type": "code",
   "execution_count": 6,
   "id": "5dd49d31-2d5e-4804-9a55-1913d99d8da6",
   "metadata": {},
   "outputs": [
    {
     "name": "stdout",
     "output_type": "stream",
     "text": [
      "root\n",
      " |-- adult: string (nullable = true)\n",
      " |-- genres: string (nullable = true)\n",
      " |-- tmdbId: string (nullable = true)\n",
      " |-- title: string (nullable = true)\n",
      " |-- overview: string (nullable = true)\n",
      " |-- poster_path: string (nullable = true)\n",
      " |-- production_companies: string (nullable = true)\n",
      " |-- release_date: string (nullable = true)\n",
      " |-- vote_average: double (nullable = true)\n",
      " |-- vote_count: double (nullable = true)\n",
      " |-- id: long (nullable = true)\n",
      "\n"
     ]
    }
   ],
   "source": [
    "movies.printSchema()"
   ]
  },
  {
   "cell_type": "code",
   "execution_count": 7,
   "id": "ee86b2cb-41bf-46fb-95e8-3b48a97c1755",
   "metadata": {},
   "outputs": [
    {
     "name": "stdout",
     "output_type": "stream",
     "text": [
      "+-----+--------------------+------+---------+--------------------+-------------+--------------------+------------+------------+----------+---+\n",
      "|adult|              genres|tmdbId|    title|            overview|  poster_path|production_companies|release_date|vote_average|vote_count| id|\n",
      "+-----+--------------------+------+---------+--------------------+-------------+--------------------+------------+------------+----------+---+\n",
      "|False|[{'id': 16, 'name...|   862|Toy Story|Led by Woody, And...|posters\\1.jpg|[{'name': 'Pixar ...|  1995-10-30|         7.7|    5415.0|  1|\n",
      "+-----+--------------------+------+---------+--------------------+-------------+--------------------+------------+------------+----------+---+\n",
      "only showing top 1 row\n",
      "\n",
      "45466\n"
     ]
    }
   ],
   "source": [
    "movies.show(1)\n",
    "print(movies.count())"
   ]
  },
  {
   "cell_type": "markdown",
   "id": "bfbfd000-f8a8-4e56-a6d5-85994aed476a",
   "metadata": {},
   "source": [
    "Col: adult"
   ]
  },
  {
   "cell_type": "code",
   "execution_count": 8,
   "id": "69ee4717-22a0-4f76-b341-29c2422c6e4c",
   "metadata": {},
   "outputs": [
    {
     "data": {
      "text/plain": [
       "5"
      ]
     },
     "execution_count": 8,
     "metadata": {},
     "output_type": "execute_result"
    }
   ],
   "source": [
    "movies.select(\"adult\").distinct().count()"
   ]
  },
  {
   "cell_type": "code",
   "execution_count": 9,
   "id": "8d7e72e1-067a-46d3-8928-be1c89908f18",
   "metadata": {},
   "outputs": [
    {
     "name": "stdout",
     "output_type": "stream",
     "text": [
      "+--------------------+-----+\n",
      "|               adult|count|\n",
      "+--------------------+-----+\n",
      "|               False|45454|\n",
      "|  - Written by Ørnås|    1|\n",
      "|                True|    9|\n",
      "| Rune Balot goes ...|    1|\n",
      "| Avalanche Sharks...|    1|\n",
      "+--------------------+-----+\n",
      "\n"
     ]
    }
   ],
   "source": [
    "movies.groupBy(\"adult\").count().show()"
   ]
  },
  {
   "cell_type": "code",
   "execution_count": 10,
   "id": "cd78c43d-e784-4a9b-bd60-d1f1c204997f",
   "metadata": {},
   "outputs": [],
   "source": [
    "movies_clean = movies.filter(\n",
    "    (movies.adult == True) | (movies.adult == False))"
   ]
  },
  {
   "cell_type": "code",
   "execution_count": 11,
   "id": "6b99cc70-6996-43d0-9506-30cbb97f8e3b",
   "metadata": {},
   "outputs": [
    {
     "data": {
      "text/plain": [
       "45463"
      ]
     },
     "execution_count": 11,
     "metadata": {},
     "output_type": "execute_result"
    }
   ],
   "source": [
    "movies_clean.count()"
   ]
  },
  {
   "cell_type": "code",
   "execution_count": 12,
   "id": "3e2be8a5-6be3-458e-a90f-7680c3c608ff",
   "metadata": {},
   "outputs": [],
   "source": [
    "movies_clean = movies_clean.withColumn(\n",
    "    \"adult\", col(\"adult\").cast(\"boolean\"))"
   ]
  },
  {
   "cell_type": "markdown",
   "id": "d181b1d6-fb62-46bc-93da-bab61332603b",
   "metadata": {},
   "source": [
    "Col: genres"
   ]
  },
  {
   "cell_type": "code",
   "execution_count": 13,
   "id": "84f756e8-142d-4cb5-90b8-241e5395b96a",
   "metadata": {},
   "outputs": [
    {
     "data": {
      "text/plain": [
       "4066"
      ]
     },
     "execution_count": 13,
     "metadata": {},
     "output_type": "execute_result"
    }
   ],
   "source": [
    "movies_clean.select(\"genres\").distinct().count()"
   ]
  },
  {
   "cell_type": "code",
   "execution_count": 14,
   "id": "758009b9-b3e9-47d2-abb6-b60c6c9002b7",
   "metadata": {},
   "outputs": [
    {
     "name": "stdout",
     "output_type": "stream",
     "text": [
      "+--------------------+\n",
      "|              genres|\n",
      "+--------------------+\n",
      "|[{'id': 12, 'name...|\n",
      "|[{'id': 18, 'name...|\n",
      "|[{'id': 36, 'name...|\n",
      "|[{'id': 53, 'name...|\n",
      "|[{'id': 14, 'name...|\n",
      "|[{'id': 28, 'name...|\n",
      "|[{'id': 28, 'name...|\n",
      "|[{'id': 99, 'name...|\n",
      "|[{'id': 18, 'name...|\n",
      "|[{'id': 35, 'name...|\n",
      "|[{'id': 53, 'name...|\n",
      "|[{'id': 35, 'name...|\n",
      "|[{'id': 35, 'name...|\n",
      "|[{'id': 12, 'name...|\n",
      "|[{'id': 35, 'name...|\n",
      "|[{'id': 12, 'name...|\n",
      "|[{'id': 35, 'name...|\n",
      "|[{'id': 28, 'name...|\n",
      "|[{'id': 14, 'name...|\n",
      "|[{'id': 14, 'name...|\n",
      "+--------------------+\n",
      "only showing top 20 rows\n",
      "\n"
     ]
    }
   ],
   "source": [
    "movies_clean.select(\"genres\").distinct().show()"
   ]
  },
  {
   "cell_type": "markdown",
   "id": "7565c1c9-813c-49ba-bf1c-56c411055952",
   "metadata": {},
   "source": [
    "Si tus datos usan comillas simples (') en lugar de dobles (\"), lo primero es reemplazarlas, porque el parser JSON requiere comillas dobles."
   ]
  },
  {
   "cell_type": "code",
   "execution_count": 15,
   "id": "6bb30d59-59f4-458a-afd6-4958505ceebc",
   "metadata": {},
   "outputs": [],
   "source": [
    "# Reparar comillas simples a dobles si es necesario\n",
    "movies_clean = movies_clean.withColumn(\n",
    "    \"genres_json\", regexp_replace(col(\"genres\"), \"'\", '\"'))"
   ]
  },
  {
   "cell_type": "code",
   "execution_count": 16,
   "id": "930120dc-6845-4393-9171-34c8a08cd251",
   "metadata": {},
   "outputs": [],
   "source": [
    "# Esquema para los géneros\n",
    "genre_schema = ArrayType(\n",
    "    StructType([\n",
    "        StructField(\"id\", IntegerType(), True),\n",
    "        StructField(\"name\", StringType(), True)\n",
    "    ])\n",
    ")"
   ]
  },
  {
   "cell_type": "code",
   "execution_count": 17,
   "id": "106e1662-ee32-4ebc-bb38-acc742117eac",
   "metadata": {},
   "outputs": [],
   "source": [
    "# Parsear el string JSON a array de structs\n",
    "movies_clean = movies_clean.withColumn(\n",
    "    \"genres_parsed\", from_json(col(\"genres_json\"), genre_schema))"
   ]
  },
  {
   "cell_type": "code",
   "execution_count": 18,
   "id": "2758d0f9-1a01-4531-96e4-52c1e43923b7",
   "metadata": {},
   "outputs": [],
   "source": [
    "# Extraer solo los IDs\n",
    "movies_clean = movies_clean.withColumn(\n",
    "    \"genres\", expr(\"transform(genres_parsed, x -> x.id)\"))"
   ]
  },
  {
   "cell_type": "code",
   "execution_count": 19,
   "id": "ce46d3ba-8736-497a-a750-a2b9cb097157",
   "metadata": {},
   "outputs": [
    {
     "name": "stdout",
     "output_type": "stream",
     "text": [
      "+--------------------+\n",
      "|              genres|\n",
      "+--------------------+\n",
      "|  [53, 80, 18, 9648]|\n",
      "|        [35, 28, 12]|\n",
      "|[12, 18, 28, 1074...|\n",
      "|       [35, 18, 878]|\n",
      "|     [10749, 28, 35]|\n",
      "|     [28, 10752, 37]|\n",
      "|        [80, 35, 14]|\n",
      "|            [12, 37]|\n",
      "|       [878, 35, 80]|\n",
      "|     [16, 10751, 35]|\n",
      "|     [10749, 12, 18]|\n",
      "|  [18, 10751, 10749]|\n",
      "|       [878, 27, 28]|\n",
      "|[18, 10402, 10749...|\n",
      "| [10749, 35, 80, 18]|\n",
      "|           [53, 878]|\n",
      "|     [28, 35, 10751]|\n",
      "| [53, 18, 10402, 80]|\n",
      "|     [878, 12, 9648]|\n",
      "|        [35, 27, 14]|\n",
      "+--------------------+\n",
      "only showing top 20 rows\n",
      "\n"
     ]
    }
   ],
   "source": [
    "movies_clean.select(\"genres\").distinct().show()"
   ]
  },
  {
   "cell_type": "code",
   "execution_count": 20,
   "id": "a8cbd02f-3e04-4f2f-a20b-d3b8c74f42d8",
   "metadata": {},
   "outputs": [],
   "source": [
    "# Explota los géneros para tener una fila por cada id-name\n",
    "genre_pairs_df = movies_clean.select(explode(\"genres_parsed\").alias(\"genre\")) \\\n",
    "                       .select(\"genre.id\", \"genre.name\") \\\n",
    "                       .distinct()"
   ]
  },
  {
   "cell_type": "code",
   "execution_count": 21,
   "id": "18b0b3db-765b-4f20-9155-3bc9d3c14e18",
   "metadata": {},
   "outputs": [],
   "source": [
    "# Recoge los resultados como diccionario\n",
    "genres_id = {row[\"id\"]: row[\"name\"] for row in genre_pairs_df.collect()}"
   ]
  },
  {
   "cell_type": "code",
   "execution_count": 22,
   "id": "b118aef3-ec5f-4682-8486-ba63b47b9348",
   "metadata": {},
   "outputs": [
    {
     "data": {
      "text/plain": [
       "[(12, 'Adventure'),\n",
       " (14, 'Fantasy'),\n",
       " (16, 'Animation'),\n",
       " (18, 'Drama'),\n",
       " (27, 'Horror'),\n",
       " (28, 'Action'),\n",
       " (35, 'Comedy'),\n",
       " (36, 'History'),\n",
       " (37, 'Western'),\n",
       " (53, 'Thriller'),\n",
       " (80, 'Crime'),\n",
       " (99, 'Documentary'),\n",
       " (878, 'Science Fiction'),\n",
       " (9648, 'Mystery'),\n",
       " (10402, 'Music'),\n",
       " (10749, 'Romance'),\n",
       " (10751, 'Family'),\n",
       " (10752, 'War'),\n",
       " (10769, 'Foreign'),\n",
       " (10770, 'TV Movie')]"
      ]
     },
     "execution_count": 22,
     "metadata": {},
     "output_type": "execute_result"
    }
   ],
   "source": [
    "sorted(genres_id.items())"
   ]
  },
  {
   "cell_type": "markdown",
   "id": "86a3a6aa-b957-44fc-8efc-3042a7f682db",
   "metadata": {},
   "source": [
    "Col: tmdbId"
   ]
  },
  {
   "cell_type": "code",
   "execution_count": 23,
   "id": "78cf34a7-5b02-429c-8507-6d448b1acc0b",
   "metadata": {},
   "outputs": [
    {
     "data": {
      "text/plain": [
       "45433"
      ]
     },
     "execution_count": 23,
     "metadata": {},
     "output_type": "execute_result"
    }
   ],
   "source": [
    "movies_clean.select(\"tmdbId\").distinct().count()"
   ]
  },
  {
   "cell_type": "code",
   "execution_count": 24,
   "id": "43b56d48-8c5c-4f85-b165-f8ac7077c18e",
   "metadata": {},
   "outputs": [
    {
     "data": {
      "text/plain": [
       "45463"
      ]
     },
     "execution_count": 24,
     "metadata": {},
     "output_type": "execute_result"
    }
   ],
   "source": [
    "movies_clean.count()"
   ]
  },
  {
   "cell_type": "code",
   "execution_count": 25,
   "id": "31b311e5-5c52-467f-bf48-e24b9338249e",
   "metadata": {},
   "outputs": [
    {
     "name": "stdout",
     "output_type": "stream",
     "text": [
      "+------+-----+\n",
      "|tmdbId|count|\n",
      "+------+-----+\n",
      "| 22649|    2|\n",
      "|105045|    2|\n",
      "| 84198|    2|\n",
      "|132641|    2|\n",
      "|  4912|    2|\n",
      "| 12600|    2|\n",
      "| 10991|    2|\n",
      "| 15028|    2|\n",
      "|109962|    2|\n",
      "|110428|    2|\n",
      "| 69234|    2|\n",
      "| 14788|    2|\n",
      "| 77221|    2|\n",
      "|  5511|    2|\n",
      "| 23305|    2|\n",
      "| 18440|    2|\n",
      "|168538|    2|\n",
      "|159849|    2|\n",
      "| 11115|    2|\n",
      "|141971|    3|\n",
      "+------+-----+\n",
      "only showing top 20 rows\n",
      "\n"
     ]
    }
   ],
   "source": [
    "movies_clean.groupBy(\"tmdbId\").count().filter(\"count > 1\").show()"
   ]
  },
  {
   "cell_type": "code",
   "execution_count": 26,
   "id": "146be742-e01f-48ba-bef3-eff64bd8e113",
   "metadata": {},
   "outputs": [],
   "source": [
    "duplicated_ids = movies_clean.groupBy(\"tmdbId\") \\\n",
    "                             .count() \\\n",
    "                             .filter(\"count > 1\") \\\n",
    "                             .select(\"tmdbId\") \\\n",
    "                             .rdd.flatMap(lambda x: x).collect()"
   ]
  },
  {
   "cell_type": "code",
   "execution_count": 27,
   "id": "0ff852cd-cca7-4e28-955a-87dfc993a40c",
   "metadata": {},
   "outputs": [
    {
     "name": "stdout",
     "output_type": "stream",
     "text": [
      "+-----+------------------+------+--------------------+--------------------+----------------+--------------------+------------+------------+----------+----+--------------------+--------------------+\n",
      "|adult|            genres|tmdbId|               title|            overview|     poster_path|production_companies|release_date|vote_average|vote_count|  id|         genres_json|       genres_parsed|\n",
      "+-----+------------------+------+--------------------+--------------------+----------------+--------------------+------------+------------+----------+----+--------------------+--------------------+\n",
      "|false|       [18, 10749]|105045|         The Promise|East-Berlin, 1961...| posters\\687.jpg|[{'name': 'Studio...|  1995-02-16|         5.0|       1.0| 687|[{\"id\": 18, \"name...|[{18, Drama}, {10...|\n",
      "|false|              [18]|132641|                Wife|Ten years into a ...| posters\\853.jpg|[{'name': 'Toho C...|  1953-04-29|         0.0|       0.0| 853|[{\"id\": 18, \"name...|       [{18, Drama}]|\n",
      "|false|[18, 10749, 10752]| 22649|  A Farewell to Arms|British nurse Cat...| posters\\966.jpg|[{'name': 'Paramo...|  1932-12-08|         6.2|      29.0| 966|[{\"id\": 18, \"name...|[{18, Drama}, {10...|\n",
      "|false|       [18, 10749]|105045|         The Promise|East-Berlin, 1961...|posters\\1510.jpg|[{'name': 'Studio...|  1995-02-16|         5.0|       1.0|1510|[{\"id\": 18, \"name...|[{18, Drama}, {10...|\n",
      "|false|              [99]| 84198|A Place at the Table|Using personal st...|posters\\2649.jpg|                  []|  2012-03-22|         6.9|       7.0|2649|[{\"id\": 99, \"name...| [{99, Documentary}]|\n",
      "+-----+------------------+------+--------------------+--------------------+----------------+--------------------+------------+------------+----------+----+--------------------+--------------------+\n",
      "only showing top 5 rows\n",
      "\n"
     ]
    }
   ],
   "source": [
    "movies_clean.filter(col(\"tmdbId\").isin(duplicated_ids)).show(5)"
   ]
  },
  {
   "cell_type": "code",
   "execution_count": 28,
   "id": "be9ea0d1-7e3d-44af-9057-f49d0ea7276f",
   "metadata": {},
   "outputs": [],
   "source": [
    "movies_clean = movies_clean.dropDuplicates([\"tmdbId\"])"
   ]
  },
  {
   "cell_type": "markdown",
   "id": "a000fb63-1761-4101-97d1-1278944fc426",
   "metadata": {},
   "source": [
    "Con esto hemos eliminado las peliculas duplicadas por tmdbId"
   ]
  },
  {
   "cell_type": "code",
   "execution_count": 29,
   "id": "ce470b17-a1c9-4a77-8b54-73193f901cb4",
   "metadata": {},
   "outputs": [
    {
     "data": {
      "text/plain": [
       "45433"
      ]
     },
     "execution_count": 29,
     "metadata": {},
     "output_type": "execute_result"
    }
   ],
   "source": [
    "movies_clean.count()"
   ]
  },
  {
   "cell_type": "code",
   "execution_count": 30,
   "id": "0822be78-ca53-472b-a7b3-cbb34c5db975",
   "metadata": {},
   "outputs": [
    {
     "name": "stdout",
     "output_type": "stream",
     "text": [
      "+------+-----+\n",
      "|tmdbId|count|\n",
      "+------+-----+\n",
      "+------+-----+\n",
      "\n"
     ]
    }
   ],
   "source": [
    "movies_clean.groupBy(\"tmdbId\").count().filter(\"count > 1\").show()"
   ]
  },
  {
   "cell_type": "markdown",
   "id": "2917b2b8-cb70-48c1-84e2-40128dfa7dbd",
   "metadata": {},
   "source": [
    "Col: title"
   ]
  },
  {
   "cell_type": "code",
   "execution_count": 31,
   "id": "0cc2f238-2d03-461c-85d3-bc8804f39141",
   "metadata": {},
   "outputs": [
    {
     "data": {
      "text/plain": [
       "42278"
      ]
     },
     "execution_count": 31,
     "metadata": {},
     "output_type": "execute_result"
    }
   ],
   "source": [
    "movies_clean.select(\"title\").distinct().count()"
   ]
  },
  {
   "cell_type": "code",
   "execution_count": 32,
   "id": "0c49fbaa-6139-4cb8-b149-8c0a3a0b39ad",
   "metadata": {},
   "outputs": [
    {
     "name": "stdout",
     "output_type": "stream",
     "text": [
      "+--------------------+-----+\n",
      "|               title|count|\n",
      "+--------------------+-----+\n",
      "|              Heaven|    2|\n",
      "|                Silk|    3|\n",
      "|   The Biscuit Eater|    2|\n",
      "|          Riverworld|    2|\n",
      "|      A Woman's Face|    2|\n",
      "|              Crisis|    2|\n",
      "|Diary of a Chambe...|    2|\n",
      "|       The Encounter|    2|\n",
      "|          Nightmares|    2|\n",
      "|              Hawaii|    2|\n",
      "|The Time of Your ...|    2|\n",
      "|             Salvage|    2|\n",
      "|          Charleston|    2|\n",
      "|             The Fan|    2|\n",
      "|           Detention|    2|\n",
      "|            Midnight|    4|\n",
      "|                Deal|    2|\n",
      "|          The Double|    4|\n",
      "|       The Last Days|    2|\n",
      "|            Madhouse|    3|\n",
      "+--------------------+-----+\n",
      "only showing top 20 rows\n",
      "\n"
     ]
    }
   ],
   "source": [
    "movies_clean.groupBy(\"title\").count().filter(\"count > 1\").show()"
   ]
  },
  {
   "cell_type": "code",
   "execution_count": 33,
   "id": "cff3f0fe-c081-42be-bfec-d2d712d94371",
   "metadata": {},
   "outputs": [],
   "source": [
    "duplicated_title = movies_clean.groupBy(\"title\") \\\n",
    "                             .count() \\\n",
    "                             .filter(\"count > 1\") \\\n",
    "                             .select(\"title\") \\\n",
    "                             .rdd.flatMap(lambda x: x).collect()"
   ]
  },
  {
   "cell_type": "code",
   "execution_count": 34,
   "id": "baf02e7c-0e12-4744-a3b3-c9a27add2e41",
   "metadata": {},
   "outputs": [],
   "source": [
    "movies_clean = movies_clean.dropDuplicates([\"title\"])"
   ]
  },
  {
   "cell_type": "markdown",
   "id": "7e699271-2f77-44cf-9c4b-ab91b5c5368a",
   "metadata": {},
   "source": [
    "Con esto hemos eliminado las peliculas duplicadas por title"
   ]
  },
  {
   "cell_type": "markdown",
   "id": "33a2cb3f-a4f7-4339-98e1-8e38cd730a0b",
   "metadata": {},
   "source": [
    "Col: overview"
   ]
  },
  {
   "cell_type": "code",
   "execution_count": 35,
   "id": "0c3e1d15-6c8e-4e1b-a284-073d149ed4ab",
   "metadata": {},
   "outputs": [
    {
     "data": {
      "text/plain": [
       "41196"
      ]
     },
     "execution_count": 35,
     "metadata": {},
     "output_type": "execute_result"
    }
   ],
   "source": [
    "movies_clean.select(\"overview\").distinct().count()"
   ]
  },
  {
   "cell_type": "code",
   "execution_count": 36,
   "id": "877cd73f-6e99-42ed-a1fc-2b7a1d1e79e1",
   "metadata": {},
   "outputs": [
    {
     "name": "stdout",
     "output_type": "stream",
     "text": [
      "+--------------------+-----+\n",
      "|            overview|count|\n",
      "+--------------------+-----+\n",
      "|A Russian enginee...|    2|\n",
      "|With friends like...|    2|\n",
      "|Director Michael ...|    2|\n",
      "|Poor but happy, y...|    2|\n",
      "|An abstract anima...|    2|\n",
      "|Funny, entertaini...|    2|\n",
      "|No movie overview...|    3|\n",
      "| A film by Jem Cohen|    2|\n",
      "|Karol has everyth...|    2|\n",
      "|  No overview found.|  128|\n",
      "|The Kingdom of th...|    2|\n",
      "|The ghost of a sa...|    2|\n",
      "|                 NaN|  928|\n",
      "|Alien pods come t...|    2|\n",
      "|         No Overview|    7|\n",
      "|Experimental film...|    2|\n",
      "|When four women m...|    2|\n",
      "|    No overview yet.|    2|\n",
      "|                    |    4|\n",
      "|A few funny littl...|    3|\n",
      "+--------------------+-----+\n",
      "only showing top 20 rows\n",
      "\n"
     ]
    }
   ],
   "source": [
    "movies_clean.groupBy(\"overview\").count().filter(\"count > 1\").show()"
   ]
  },
  {
   "cell_type": "code",
   "execution_count": 37,
   "id": "5b70cb1a-672e-4cd6-b4bc-00c06b85cb8b",
   "metadata": {},
   "outputs": [],
   "source": [
    "duplicated_overview = movies_clean.groupBy(\"overview\") \\\n",
    "                             .count() \\\n",
    "                             .filter(\"count > 1\") \\\n",
    "                             .select(\"overview\") \\\n",
    "                             .rdd.flatMap(lambda x: x).collect()"
   ]
  },
  {
   "cell_type": "code",
   "execution_count": 38,
   "id": "565a7f16-0126-4b06-9d75-e055a694de36",
   "metadata": {},
   "outputs": [],
   "source": [
    "duplicates = movies_clean.filter(col(\"overview\").isin(duplicated_overview))"
   ]
  },
  {
   "cell_type": "code",
   "execution_count": 39,
   "id": "3999ada9-9bf3-4bce-9636-73cc8db885dc",
   "metadata": {},
   "outputs": [
    {
     "name": "stdout",
     "output_type": "stream",
     "text": [
      "+--------------------+--------------------+\n",
      "|            overview|               title|\n",
      "+--------------------+--------------------+\n",
      "|                    |  Afstiros katallilo|\n",
      "|                    |           Snow days|\n",
      "|                    |  Slaves of New York|\n",
      "|                    |             Iceland|\n",
      "|A Russian enginee...|Failure of Engine...|\n",
      "|A Russian enginee...|The Hyperboloid o...|\n",
      "|A few funny littl...|        The Comics 2|\n",
      "|A few funny littl...|          The Comics|\n",
      "|A few funny littl...|      The New Comics|\n",
      "| A film by Jem Cohen|Building a Broken...|\n",
      "| A film by Jem Cohen|     Buried in Light|\n",
      "|Alien pods come t...|    Parasyte: Part 2|\n",
      "|Alien pods come t...|    Parasyte: Part 1|\n",
      "|An abstract anima...|             Opus II|\n",
      "|An abstract anima...|            Opus III|\n",
      "|      Bollywood 2009|               Gaiir|\n",
      "|      Bollywood 2009|  Be Dune Saade Char|\n",
      "|Director Michael ...|               42 Up|\n",
      "|Director Michael ...|               35 Up|\n",
      "|Experimental film...|          Men Boxing|\n",
      "+--------------------+--------------------+\n",
      "only showing top 20 rows\n",
      "\n"
     ]
    }
   ],
   "source": [
    "duplicates.select(\"overview\", \"title\").orderBy(\"overview\").show()"
   ]
  },
  {
   "cell_type": "code",
   "execution_count": 40,
   "id": "122f4f4c-ffc8-4d71-a50a-add3e23b24de",
   "metadata": {},
   "outputs": [
    {
     "data": {
      "text/plain": [
       "1103"
      ]
     },
     "execution_count": 40,
     "metadata": {},
     "output_type": "execute_result"
    }
   ],
   "source": [
    "duplicates.select(\"overview\", \"title\").orderBy(\"overview\").count()"
   ]
  },
  {
   "cell_type": "code",
   "execution_count": 41,
   "id": "c4570fb3-f2df-422f-aa20-326221534b2d",
   "metadata": {},
   "outputs": [],
   "source": [
    "movies_clean = movies_clean.filter(\n",
    "    (col(\"overview\").isNotNull()) &                                   # No null / NaN\n",
    "    (trim(col(\"overview\")) != \"\") &                                   # No cadena vacía\n",
    "    (trim(col(\"overview\")) != \"NaN\") &                                   # No cadena vacía\n",
    "    (trim(col(\"overview\")) != \"No overview found.\")                   # No texto inválido\n",
    ")"
   ]
  },
  {
   "cell_type": "code",
   "execution_count": 42,
   "id": "1c8be359-d85e-43d6-9ca2-e7789f815297",
   "metadata": {},
   "outputs": [
    {
     "data": {
      "text/plain": [
       "41218"
      ]
     },
     "execution_count": 42,
     "metadata": {},
     "output_type": "execute_result"
    }
   ],
   "source": [
    "movies_clean.count()"
   ]
  },
  {
   "cell_type": "code",
   "execution_count": 43,
   "id": "217306d6-f88a-41a4-993c-78d51d7441b7",
   "metadata": {},
   "outputs": [
    {
     "name": "stdout",
     "output_type": "stream",
     "text": [
      "+--------------------+-----+\n",
      "|            overview|count|\n",
      "+--------------------+-----+\n",
      "|A Russian enginee...|    2|\n",
      "|With friends like...|    2|\n",
      "|Director Michael ...|    2|\n",
      "|Poor but happy, y...|    2|\n",
      "|An abstract anima...|    2|\n",
      "|Funny, entertaini...|    2|\n",
      "|No movie overview...|    3|\n",
      "| A film by Jem Cohen|    2|\n",
      "|Karol has everyth...|    2|\n",
      "|The Kingdom of th...|    2|\n",
      "|The ghost of a sa...|    2|\n",
      "|Alien pods come t...|    2|\n",
      "|         No Overview|    7|\n",
      "|Experimental film...|    2|\n",
      "|When four women m...|    2|\n",
      "|    No overview yet.|    2|\n",
      "|A few funny littl...|    3|\n",
      "|      Bollywood 2009|    2|\n",
      "+--------------------+-----+\n",
      "\n"
     ]
    }
   ],
   "source": [
    "movies_clean.groupBy(\"overview\").count().filter(\"count > 1\").show()"
   ]
  },
  {
   "cell_type": "markdown",
   "id": "adb7c8e5-160e-40a3-a79f-a9ec2173b781",
   "metadata": {},
   "source": [
    "Col: poster_path"
   ]
  },
  {
   "cell_type": "code",
   "execution_count": 44,
   "id": "2a5371f3-9925-453f-9c45-33163d900223",
   "metadata": {},
   "outputs": [
    {
     "data": {
      "text/plain": [
       "40342"
      ]
     },
     "execution_count": 44,
     "metadata": {},
     "output_type": "execute_result"
    }
   ],
   "source": [
    "movies_clean.select(\"poster_path\").distinct().count()"
   ]
  },
  {
   "cell_type": "code",
   "execution_count": 45,
   "id": "6f905d86-3148-4967-bba6-a74509af9bec",
   "metadata": {},
   "outputs": [
    {
     "name": "stdout",
     "output_type": "stream",
     "text": [
      "+-----------+-----+\n",
      "|poster_path|count|\n",
      "+-----------+-----+\n",
      "|        NaN|  877|\n",
      "+-----------+-----+\n",
      "\n"
     ]
    }
   ],
   "source": [
    "movies_clean.groupBy(\"poster_path\").count().filter(\"count > 1\").show()"
   ]
  },
  {
   "cell_type": "code",
   "execution_count": 46,
   "id": "be8ecf26-f0ce-4f51-b6e2-7340740de8c8",
   "metadata": {},
   "outputs": [],
   "source": [
    "movies_clean = movies_clean.filter(                                 \n",
    "    (trim(col(\"poster_path\")) != \"NaN\")                \n",
    ")"
   ]
  },
  {
   "cell_type": "code",
   "execution_count": 47,
   "id": "1ff81eee-0b7c-4908-a635-6a0457aa24c1",
   "metadata": {},
   "outputs": [
    {
     "data": {
      "text/plain": [
       "40341"
      ]
     },
     "execution_count": 47,
     "metadata": {},
     "output_type": "execute_result"
    }
   ],
   "source": [
    "movies_clean.count()"
   ]
  },
  {
   "cell_type": "markdown",
   "id": "deebac32-0579-4908-a105-0a9a50032871",
   "metadata": {},
   "source": [
    "Col: production_companies"
   ]
  },
  {
   "cell_type": "code",
   "execution_count": 48,
   "id": "75797a6c-c010-4c53-a659-2de68594cb4b",
   "metadata": {},
   "outputs": [
    {
     "name": "stdout",
     "output_type": "stream",
     "text": [
      "+--------------------+-----+\n",
      "|production_companies|count|\n",
      "+--------------------+-----+\n",
      "|[{'name': 'Hollyw...|    4|\n",
      "|[{'name': 'Tokyo ...|    4|\n",
      "|[{'name': 'Motion...|    3|\n",
      "|[{'name': 'United...|    2|\n",
      "|[{'name': 'Produc...|    2|\n",
      "|[{'name': 'Showbo...|    6|\n",
      "|[{'name': 'First ...|    7|\n",
      "|[{'name': 'Netfli...|   18|\n",
      "|[{'name': 'Mattel...|   10|\n",
      "|[{'name': 'Golden...|   18|\n",
      "|[{'name': 'Renega...|    3|\n",
      "|[{'name': 'Walt D...|    3|\n",
      "|[{'name': 'The Fi...|    3|\n",
      "|[{'name': 'Charle...|    5|\n",
      "|[{'name': 'Showbo...|    5|\n",
      "|[{'name': 'Hanna-...|    7|\n",
      "|[{'name': 'Greek ...|    3|\n",
      "|[{'name': 'Touchs...|   63|\n",
      "|[{'name': 'Montro...|    2|\n",
      "|[{'name': 'Univer...|    3|\n",
      "+--------------------+-----+\n",
      "only showing top 20 rows\n",
      "\n"
     ]
    }
   ],
   "source": [
    "movies_clean.groupBy(\"production_companies\").count().filter(\"count > 1\").show()"
   ]
  },
  {
   "cell_type": "code",
   "execution_count": 49,
   "id": "8d43701f-63b4-4ee5-af6b-b2b93e1cae04",
   "metadata": {},
   "outputs": [
    {
     "data": {
      "text/plain": [
       "1"
      ]
     },
     "execution_count": 49,
     "metadata": {},
     "output_type": "execute_result"
    }
   ],
   "source": [
    "movies_clean.filter(                                 \n",
    "    (trim(col(\"production_companies\")) == \"NaN\")                \n",
    ").count()"
   ]
  },
  {
   "cell_type": "code",
   "execution_count": 50,
   "id": "4324b106-9e62-4b9e-a8b2-c0c19347e523",
   "metadata": {},
   "outputs": [],
   "source": [
    "movies_clean = movies_clean.filter(                                 \n",
    "    (trim(col(\"production_companies\")) != \"NaN\")                \n",
    ")"
   ]
  },
  {
   "cell_type": "markdown",
   "id": "a21cd1cb-2734-4b56-ae0e-f260003dea1c",
   "metadata": {},
   "source": [
    "Col: release_date"
   ]
  },
  {
   "cell_type": "code",
   "execution_count": 51,
   "id": "cdb2fd35-b182-40ac-a109-99bc13fcdd0d",
   "metadata": {},
   "outputs": [
    {
     "data": {
      "text/plain": [
       "43"
      ]
     },
     "execution_count": 51,
     "metadata": {},
     "output_type": "execute_result"
    }
   ],
   "source": [
    "movies_clean.filter(                                 \n",
    "    (trim(col(\"release_date\")) == \"NaN\")                \n",
    ").count()"
   ]
  },
  {
   "cell_type": "code",
   "execution_count": 52,
   "id": "af882df0-b28a-4fbf-871a-eb2f16fba25c",
   "metadata": {},
   "outputs": [],
   "source": [
    "movies_clean = movies_clean.filter(                                 \n",
    "    (trim(col(\"release_date\")) != \"NaN\")                \n",
    ")"
   ]
  },
  {
   "cell_type": "code",
   "execution_count": 53,
   "id": "6114dba2-6ab8-4c79-9104-275c57b7bbca",
   "metadata": {},
   "outputs": [
    {
     "data": {
      "text/plain": [
       "0"
      ]
     },
     "execution_count": 53,
     "metadata": {},
     "output_type": "execute_result"
    }
   ],
   "source": [
    "movies_clean.filter(                                 \n",
    "    (trim(col(\"release_date\")) == \"NaN\")                \n",
    ").count()"
   ]
  },
  {
   "cell_type": "code",
   "execution_count": 54,
   "id": "674fdca3-f14a-4d3c-a2d6-79257ea4266a",
   "metadata": {},
   "outputs": [
    {
     "name": "stdout",
     "output_type": "stream",
     "text": [
      "root\n",
      " |-- adult: boolean (nullable = true)\n",
      " |-- genres: array (nullable = true)\n",
      " |    |-- element: integer (containsNull = true)\n",
      " |-- tmdbId: string (nullable = true)\n",
      " |-- title: string (nullable = true)\n",
      " |-- overview: string (nullable = true)\n",
      " |-- poster_path: string (nullable = true)\n",
      " |-- production_companies: string (nullable = true)\n",
      " |-- release_date: string (nullable = true)\n",
      " |-- vote_average: double (nullable = true)\n",
      " |-- vote_count: double (nullable = true)\n",
      " |-- id: long (nullable = true)\n",
      " |-- genres_json: string (nullable = true)\n",
      " |-- genres_parsed: array (nullable = true)\n",
      " |    |-- element: struct (containsNull = true)\n",
      " |    |    |-- id: integer (nullable = true)\n",
      " |    |    |-- name: string (nullable = true)\n",
      "\n"
     ]
    }
   ],
   "source": [
    "movies_clean.printSchema()"
   ]
  },
  {
   "cell_type": "code",
   "execution_count": 55,
   "id": "89ed222d-c5fa-4f6a-b9b3-29537d623a9b",
   "metadata": {},
   "outputs": [],
   "source": [
    "movies_clean = movies_clean.withColumn(\"release_date\", to_date(col(\"release_date\"), \"yyyy-MM-dd\"))"
   ]
  },
  {
   "cell_type": "code",
   "execution_count": 56,
   "id": "0cb2701d-9469-4ba1-b580-ec3b0907f700",
   "metadata": {},
   "outputs": [],
   "source": [
    "# Convertir la columna genres (array de enteros) a string\n",
    "movies_clean = movies_clean.withColumn(\"genres\", concat_ws(\",\", \"genres\"))"
   ]
  },
  {
   "cell_type": "code",
   "execution_count": 57,
   "id": "6320afef-c137-47c5-8391-869b26451ac9",
   "metadata": {},
   "outputs": [],
   "source": [
    "movies_clean = movies_clean.drop(\"genres_json\", \"genres_parsed\")"
   ]
  },
  {
   "cell_type": "code",
   "execution_count": 58,
   "id": "4af51c81-532e-41bc-9d44-618a15377ce0",
   "metadata": {},
   "outputs": [
    {
     "name": "stdout",
     "output_type": "stream",
     "text": [
      "+-----+--------------+------+--------------------+--------------------+------------------+--------------------+------------+------------+----------+------+\n",
      "|adult|        genres|tmdbId|               title|            overview|       poster_path|production_companies|release_date|vote_average|vote_count|    id|\n",
      "+-----+--------------+------+--------------------+--------------------+------------------+--------------------+------------+------------+----------+------+\n",
      "|false|53,28,18,10752|252178|                 '71|A young British s...|posters\\116889.jpg|[{'name': 'Screen...|  2014-10-10|         6.7|     414.0|116889|\n",
      "|false|         18,53| 49110|             'R Xmas|A New York drug d...| posters\\81214.jpg|[{'name': 'Barnho...|  2001-10-04|         5.3|       3.0| 81214|\n",
      "|false|         18,28| 85255|...tick... tick.....|Racial tensions t...| posters\\26157.jpg|[{'name': 'Metro-...|  1970-01-09|         6.2|       7.0| 26157|\n",
      "|false|              |253484|    1 Chance 2 Dance|When a 17-year ol...|posters\\157583.jpg|                  []|  2014-01-21|         5.6|      16.0|157583|\n",
      "|false|            18| 41261|    1 Litre of Tears|15-year-old Ikeuc...|posters\\168222.jpg|[{'name': 'TOEI',...|  2005-02-05|         7.7|       7.0|168222|\n",
      "+-----+--------------+------+--------------------+--------------------+------------------+--------------------+------------+------------+----------+------+\n",
      "only showing top 5 rows\n",
      "\n"
     ]
    }
   ],
   "source": [
    "movies_clean.show(5)"
   ]
  },
  {
   "cell_type": "code",
   "execution_count": 59,
   "id": "1bb2f269-dd82-4ec4-8673-96bb93192ed6",
   "metadata": {},
   "outputs": [],
   "source": [
    "movies_clean = movies_clean.select(\n",
    "    \"id\",\n",
    "    \"title\",\n",
    "    \"overview\",\n",
    "    \"tmdbId\",\n",
    "    \"vote_average\",\n",
    "    \"vote_count\",\n",
    "    \"genres\",\n",
    "    \"adult\",\n",
    "    \"release_date\",\n",
    "    \"production_companies\",\n",
    "    \"poster_path\"\n",
    ")"
   ]
  },
  {
   "cell_type": "code",
   "execution_count": 60,
   "id": "388a280a-f2fc-47bd-a5b9-be2238a8b029",
   "metadata": {},
   "outputs": [
    {
     "name": "stdout",
     "output_type": "stream",
     "text": [
      "root\n",
      " |-- id: long (nullable = true)\n",
      " |-- title: string (nullable = true)\n",
      " |-- overview: string (nullable = true)\n",
      " |-- tmdbId: string (nullable = true)\n",
      " |-- vote_average: double (nullable = true)\n",
      " |-- vote_count: double (nullable = true)\n",
      " |-- genres: string (nullable = false)\n",
      " |-- adult: boolean (nullable = true)\n",
      " |-- release_date: date (nullable = true)\n",
      " |-- production_companies: string (nullable = true)\n",
      " |-- poster_path: string (nullable = true)\n",
      "\n"
     ]
    }
   ],
   "source": [
    "movies_clean.printSchema()"
   ]
  },
  {
   "cell_type": "code",
   "execution_count": 61,
   "id": "12e52a56-9919-4ec9-b891-b7a66fe0d84b",
   "metadata": {},
   "outputs": [],
   "source": [
    "# movies_clean.write \\\n",
    "#     .option(\"header\", True) \\\n",
    "#     .option(\"encoding\", \"UTF-8\") \\\n",
    "#     .mode(\"overwrite\") \\\n",
    "#     .csv(\"../data/clean_data/movies_clean\")"
   ]
  },
  {
   "cell_type": "code",
   "execution_count": 62,
   "id": "33d80d02-ac99-47b5-aa97-888399f3384d",
   "metadata": {},
   "outputs": [],
   "source": [
    "movies_clean.write \\\n",
    "    .mode(\"overwrite\") \\\n",
    "    .parquet(\"../data/clean_data/movies_clean\")"
   ]
  },
  {
   "cell_type": "code",
   "execution_count": 63,
   "id": "c0e1fe02-9f59-4260-bec0-ed1289b56962",
   "metadata": {},
   "outputs": [],
   "source": [
    "moviesc_pd = movies_clean.toPandas()"
   ]
  },
  {
   "cell_type": "code",
   "execution_count": 64,
   "id": "c51325ec-b7c9-4e35-aad8-a68df3f23c29",
   "metadata": {},
   "outputs": [],
   "source": [
    "# profilec = ProfileReport(moviesc_pd, title=\"Movies Profiling Report\", explorative=True)\n",
    "# profilec.to_file(\"../data/ProfileReport/peliculas_clean_report.html\")"
   ]
  },
  {
   "cell_type": "code",
   "execution_count": 65,
   "id": "7f8efdab-1129-4711-83e9-e5a81eb1908b",
   "metadata": {},
   "outputs": [],
   "source": [
    "spark.stop()"
   ]
  },
  {
   "cell_type": "code",
   "execution_count": null,
   "id": "79b3d031-20b6-406f-b4b1-647f7bc300d3",
   "metadata": {},
   "outputs": [],
   "source": []
  }
 ],
 "metadata": {
  "kernelspec": {
   "display_name": "Python 3 (ipykernel)",
   "language": "python",
   "name": "python3"
  },
  "language_info": {
   "codemirror_mode": {
    "name": "ipython",
    "version": 3
   },
   "file_extension": ".py",
   "mimetype": "text/x-python",
   "name": "python",
   "nbconvert_exporter": "python",
   "pygments_lexer": "ipython3",
   "version": "3.9.21"
  }
 },
 "nbformat": 4,
 "nbformat_minor": 5
}
