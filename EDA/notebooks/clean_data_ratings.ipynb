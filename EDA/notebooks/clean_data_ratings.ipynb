{
 "cells": [
  {
   "cell_type": "code",
   "execution_count": 1,
   "id": "187acdca-d93a-4ebf-aeb7-9a7507653319",
   "metadata": {},
   "outputs": [
    {
     "name": "stderr",
     "output_type": "stream",
     "text": [
      "/opt/conda/envs/recommender-env/lib/python3.9/site-packages/tqdm/auto.py:21: TqdmWarning: IProgress not found. Please update jupyter and ipywidgets. See https://ipywidgets.readthedocs.io/en/stable/user_install.html\n",
      "  from .autonotebook import tqdm as notebook_tqdm\n"
     ]
    },
    {
     "data": {
      "text/html": [
       "\n",
       "            <div>\n",
       "                <ins><a href=\"https://ydata.ai/register\">Upgrade to ydata-sdk</a></ins>\n",
       "                <p>\n",
       "                    Improve your data and profiling with ydata-sdk, featuring data quality scoring, redundancy detection, outlier identification, text validation, and synthetic data generation.\n",
       "                </p>\n",
       "            </div>\n",
       "            "
      ],
      "text/plain": [
       "<IPython.core.display.HTML object>"
      ]
     },
     "metadata": {},
     "output_type": "display_data"
    }
   ],
   "source": [
    "import pandas as pd\n",
    "from ydata_profiling import ProfileReport\n",
    "from pyspark.sql import SparkSession\n",
    "\n",
    "spark = SparkSession.builder \\\n",
    "    .appName(\"EDA-Recommender\") \\\n",
    "    .config(\"spark.driver.memory\", \"12g\") \\\n",
    "    .getOrCreate()"
   ]
  },
  {
   "cell_type": "markdown",
   "id": "8918eaae-5f65-4b69-a9d8-a01f229a7ac9",
   "metadata": {},
   "source": [
    "Genera el Profile Report"
   ]
  },
  {
   "cell_type": "code",
   "execution_count": 2,
   "id": "53f8a5dc-6974-45f6-b135-100505fef3da",
   "metadata": {},
   "outputs": [],
   "source": [
    "# ratings_pd = pd.read_csv(\"../data/raw_data/ratings.csv\")"
   ]
  },
  {
   "cell_type": "code",
   "execution_count": 3,
   "id": "c6ef423c-94dc-4ae2-b8b8-72f2dc2ce0ec",
   "metadata": {},
   "outputs": [],
   "source": [
    "# profile = ProfileReport(ratings_pd, title=\"Ratings Profiling Report\", explorative=True)\n",
    "# profile.to_file(\"../data/ProfileReport/ratings_report.html\")"
   ]
  },
  {
   "cell_type": "code",
   "execution_count": 4,
   "id": "78dfd3a5-d8da-4bdb-b3d9-7ae3346837cd",
   "metadata": {},
   "outputs": [],
   "source": [
    "# ratings = spark.createDataFrame(ratings_pd)"
   ]
  },
  {
   "cell_type": "code",
   "execution_count": 5,
   "id": "4f7a3950-9b4f-4674-89bc-2f79521dab62",
   "metadata": {},
   "outputs": [],
   "source": [
    "# movies_clean = spark.read \\\n",
    "#     .option(\"header\", True) \\\n",
    "#     .option(\"encoding\", \"UTF-8\") \\\n",
    "#     .csv(\"../data/clean_data/movies_clean\")"
   ]
  },
  {
   "cell_type": "code",
   "execution_count": 6,
   "id": "432fc272-6f14-425d-957f-55aefae3e147",
   "metadata": {},
   "outputs": [],
   "source": [
    "df = spark.read \\\n",
    "    .option(\"header\", True) \\\n",
    "    .option(\"inferSchema\", True) \\\n",
    "    .option(\"multiLine\", False) \\\n",
    "    .option(\"escape\", \"\\\"\") \\\n",
    "    .csv(\"../data/raw_data/ratings.csv\")\n",
    "df.write.mode(\"overwrite\").parquet(\"../data/raw_data/ratings\")"
   ]
  },
  {
   "cell_type": "code",
   "execution_count": 7,
   "id": "25b90f81-8d33-4bc6-9c19-7683d0ff5db7",
   "metadata": {},
   "outputs": [],
   "source": [
    "ratings = spark.read.parquet(\"../data/raw_data/ratings\")"
   ]
  },
  {
   "cell_type": "code",
   "execution_count": 8,
   "id": "884e8e8f-9338-4e67-a86e-944e40777e61",
   "metadata": {},
   "outputs": [],
   "source": [
    "movies_clean = spark.read.parquet(\"../data/clean_data/movies_clean\")"
   ]
  },
  {
   "cell_type": "markdown",
   "id": "725e23b8-fd5d-43fb-a6e7-db3e0b6078bb",
   "metadata": {},
   "source": [
    "Limpieza de datos"
   ]
  },
  {
   "cell_type": "code",
   "execution_count": 9,
   "id": "dfdc3043-312e-49c8-a573-ce7bba7a2bd5",
   "metadata": {},
   "outputs": [
    {
     "data": {
      "text/plain": [
       "40297"
      ]
     },
     "execution_count": 9,
     "metadata": {},
     "output_type": "execute_result"
    }
   ],
   "source": [
    "movies_clean.count()"
   ]
  },
  {
   "cell_type": "code",
   "execution_count": 10,
   "id": "264b4e80-8b65-4f97-a195-8a49b949c46d",
   "metadata": {},
   "outputs": [
    {
     "data": {
      "text/plain": [
       "40297"
      ]
     },
     "execution_count": 10,
     "metadata": {},
     "output_type": "execute_result"
    }
   ],
   "source": [
    "movies_clean.select(\"id\").count()"
   ]
  },
  {
   "cell_type": "code",
   "execution_count": 11,
   "id": "eac8b92f-bf32-4227-9012-c5a779205702",
   "metadata": {},
   "outputs": [
    {
     "data": {
      "text/plain": [
       "26024289"
      ]
     },
     "execution_count": 11,
     "metadata": {},
     "output_type": "execute_result"
    }
   ],
   "source": [
    "ratings.count()"
   ]
  },
  {
   "cell_type": "code",
   "execution_count": 12,
   "id": "61222da9-201c-4386-9740-7fe181a78a71",
   "metadata": {},
   "outputs": [
    {
     "name": "stdout",
     "output_type": "stream",
     "text": [
      "root\n",
      " |-- userId: integer (nullable = true)\n",
      " |-- movieId: integer (nullable = true)\n",
      " |-- rating: double (nullable = true)\n",
      " |-- timestamp: integer (nullable = true)\n",
      "\n"
     ]
    }
   ],
   "source": [
    "ratings.printSchema()"
   ]
  },
  {
   "cell_type": "code",
   "execution_count": 13,
   "id": "95c80644-ff52-4346-8585-8f4b34505b2a",
   "metadata": {},
   "outputs": [
    {
     "data": {
      "text/plain": [
       "45115"
      ]
     },
     "execution_count": 13,
     "metadata": {},
     "output_type": "execute_result"
    }
   ],
   "source": [
    "ratings.select(\"movieId\").distinct().count()"
   ]
  },
  {
   "cell_type": "code",
   "execution_count": 14,
   "id": "668a7463-1609-4b84-bc03-db14675485d2",
   "metadata": {},
   "outputs": [],
   "source": [
    "ratings_clean = ratings.join(\n",
    "    movies_clean.select(\"id\"),\n",
    "    ratings.movieId == movies_clean.id,\n",
    "    \"inner\"\n",
    ").drop(movies_clean.id)"
   ]
  },
  {
   "cell_type": "code",
   "execution_count": 15,
   "id": "9f904c51-d070-4474-af66-0d5374379c0f",
   "metadata": {},
   "outputs": [
    {
     "name": "stdout",
     "output_type": "stream",
     "text": [
      "root\n",
      " |-- userId: integer (nullable = true)\n",
      " |-- movieId: integer (nullable = true)\n",
      " |-- rating: double (nullable = true)\n",
      " |-- timestamp: integer (nullable = true)\n",
      "\n"
     ]
    }
   ],
   "source": [
    "ratings_clean.printSchema()"
   ]
  },
  {
   "cell_type": "code",
   "execution_count": 16,
   "id": "0dc5b848-85bc-45d7-992d-090a2560ce11",
   "metadata": {},
   "outputs": [
    {
     "data": {
      "text/plain": [
       "39676"
      ]
     },
     "execution_count": 16,
     "metadata": {},
     "output_type": "execute_result"
    }
   ],
   "source": [
    "ratings_clean.select(\"movieId\").distinct().count()"
   ]
  },
  {
   "cell_type": "code",
   "execution_count": 17,
   "id": "9a1b1a10-47f0-48be-b387-5e06b824a93e",
   "metadata": {},
   "outputs": [
    {
     "data": {
      "text/plain": [
       "23773869"
      ]
     },
     "execution_count": 17,
     "metadata": {},
     "output_type": "execute_result"
    }
   ],
   "source": [
    "ratings_clean.count()"
   ]
  },
  {
   "cell_type": "code",
   "execution_count": 18,
   "id": "afd1d927-720b-4ec8-86fa-ff9a03766408",
   "metadata": {},
   "outputs": [],
   "source": [
    "ratings_clean.write \\\n",
    "    .mode(\"overwrite\") \\\n",
    "    .parquet(\"../data/clean_data/ratings_clean\")"
   ]
  },
  {
   "cell_type": "code",
   "execution_count": null,
   "id": "29f0b7f2-d68d-441e-b4b3-bf55ebe061b1",
   "metadata": {},
   "outputs": [],
   "source": [
    "# ratingsc_pd = ratings_clean.toPandas()"
   ]
  },
  {
   "cell_type": "code",
   "execution_count": null,
   "id": "ceb4a522-820d-406a-bd93-e0762f8c740e",
   "metadata": {},
   "outputs": [],
   "source": [
    "# profilec = ProfileReport(ratingsc_pd, title=\"Ratings Profiling Report\", explorative=True)\n",
    "# profilec.to_file(\"../data/ProfileReport/ratings_clean_report.html\")"
   ]
  },
  {
   "cell_type": "code",
   "execution_count": 19,
   "id": "7f8efdab-1129-4711-83e9-e5a81eb1908b",
   "metadata": {},
   "outputs": [],
   "source": [
    "spark.stop()"
   ]
  },
  {
   "cell_type": "code",
   "execution_count": null,
   "id": "79b3d031-20b6-406f-b4b1-647f7bc300d3",
   "metadata": {},
   "outputs": [],
   "source": []
  }
 ],
 "metadata": {
  "kernelspec": {
   "display_name": "Python 3 (ipykernel)",
   "language": "python",
   "name": "python3"
  },
  "language_info": {
   "codemirror_mode": {
    "name": "ipython",
    "version": 3
   },
   "file_extension": ".py",
   "mimetype": "text/x-python",
   "name": "python",
   "nbconvert_exporter": "python",
   "pygments_lexer": "ipython3",
   "version": "3.9.21"
  }
 },
 "nbformat": 4,
 "nbformat_minor": 5
}
