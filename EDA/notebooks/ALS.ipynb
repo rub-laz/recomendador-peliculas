{
 "cells": [
  {
   "cell_type": "code",
   "execution_count": 28,
   "id": "3385f92d-dacd-41f4-b3b2-1c6808ef3fe5",
   "metadata": {},
   "outputs": [],
   "source": [
    "from pyspark.sql import SparkSession\n",
    "import pyspark.sql.functions as F\n",
    "from pyspark.sql import SparkSession\n",
    "from pyspark.ml.recommendation import ALS\n",
    "from pyspark.ml.tuning import ParamGridBuilder, CrossValidator\n",
    "from pyspark.ml.evaluation import RegressionEvaluator\n",
    "import pickle\n",
    "spark = SparkSession.builder \\\n",
    "    .appName('Sistemas de Recomendación SVD') \\\n",
    "    .config(\"spark.driver.memory\", \"8g\") \\\n",
    "    .getOrCreate()\n",
    "\n",
    "sc = spark.sparkContext"
   ]
  },
  {
   "cell_type": "code",
   "execution_count": 20,
   "id": "efe8f561-809c-4696-846a-452d9aa9bce2",
   "metadata": {},
   "outputs": [],
   "source": [
    "# df_peliculas = spark.read.csv('../data/clean_data/peliculas_clean.csv', header=True, inferSchema=True, sep=\";\")\n",
    "df_ratings = spark.read.parquet(\"../data/clean_data/ratings_clean/*\")\n",
    "df_movies = spark.read.parquet(\"../data/clean_data/movies_clean/*\")"
   ]
  },
  {
   "cell_type": "code",
   "execution_count": 35,
   "id": "6f1d9df8-3c4b-49b0-a47d-57d3a7249b43",
   "metadata": {},
   "outputs": [
    {
     "name": "stdout",
     "output_type": "stream",
     "text": [
      "+---+--------------------+--------------------+------+------------+----------+-----------+-----+------------+\n",
      "| id|               title|            overview|tmdbId|vote_average|vote_count|     genres|adult|release_date|\n",
      "+---+--------------------+--------------------+------+------------+----------+-----------+-----+------------+\n",
      "|  1|           Toy Story|Led by Woody, And...|   862|         7.7|    5415.0|16,35,10751|false|  1995-10-30|\n",
      "|  2|             Jumanji|When siblings Jud...|  8844|         6.9|    2413.0|12,14,10751|false|  1995-12-15|\n",
      "|  3|    Grumpier Old Men|A family wedding ...| 15602|         6.5|      92.0|   10749,35|false|  1995-12-22|\n",
      "|  4|   Waiting to Exhale|Cheated on, mistr...| 31357|         6.1|      34.0|35,18,10749|false|  1995-12-22|\n",
      "|  5|Father of the Bri...|Just when George ...| 11862|         5.7|     173.0|         35|false|  1995-02-10|\n",
      "|  7|             Sabrina|An ugly duckling ...| 11860|         6.2|     141.0|   35,10749|false|  1995-12-15|\n",
      "+---+--------------------+--------------------+------+------------+----------+-----------+-----+------------+\n",
      "only showing top 6 rows\n",
      "\n"
     ]
    }
   ],
   "source": [
    "x = 9# número de columnas que quieres mostrar\n",
    "df_movies.select(df_movies.columns[:x]).sort(F.asc(\"id\")).show(6)\n"
   ]
  },
  {
   "cell_type": "code",
   "execution_count": 38,
   "id": "3332eb0b-ecd9-4f8e-9840-442a27e67cf8",
   "metadata": {},
   "outputs": [],
   "source": [
    "df_movies = df_movies.toPandas()"
   ]
  },
  {
   "cell_type": "code",
   "execution_count": 41,
   "id": "83672762-43ef-4090-80d6-1b4c424aa5cc",
   "metadata": {},
   "outputs": [],
   "source": [
    "df_movies.to_csv(\"../data/clean_data/movies.csv\", index = False)"
   ]
  },
  {
   "cell_type": "code",
   "execution_count": 37,
   "id": "af536b52-5d53-4c1f-9b23-3738694a3e7c",
   "metadata": {},
   "outputs": [],
   "source": [
    "df_movies.write.csv(\"../data/clean_data/movies_clean/peliculas.csv\",header=True,mode=\"overwrite\", sep=\";\")"
   ]
  },
  {
   "cell_type": "code",
   "execution_count": 3,
   "id": "e7ee5644-b39b-4d90-bef4-da08fecb78c4",
   "metadata": {},
   "outputs": [],
   "source": [
    "ratings = df_ratings.select(\"userId\", \"movieId\", \"rating\")"
   ]
  },
  {
   "cell_type": "markdown",
   "id": "5a832ff8-9de1-477c-8d8c-f8cce2e2e8d3",
   "metadata": {},
   "source": [
    "### Prueba de modelo ALS con Rank entre 20 y 26"
   ]
  },
  {
   "cell_type": "code",
   "execution_count": null,
   "id": "f016b97c-9b12-4db8-b039-71853b0a2be5",
   "metadata": {},
   "outputs": [],
   "source": [
    "data = {\"k\":[],\"rmse\":[]}\n",
    "(train, test) = ratings.randomSplit([0.8, 0.2],42)\n",
    "for k in range(20,26):\n",
    "    als = ALS(\n",
    "        userCol=\"userId\",\n",
    "        itemCol=\"movieId\",\n",
    "        ratingCol=\"rating\",\n",
    "        nonnegative=True,\n",
    "        implicitPrefs=False,  # Usa False para ratings explícitos\n",
    "        coldStartStrategy=\"drop\",  # Evita NaNs durante evaluación\n",
    "        rank=k,         # Número de \"factores latentes\" (equivalente a k en SVD)\n",
    "        maxIter=10,\n",
    "        regParam=0.1\n",
    "    )\n",
    "\n",
    "    \n",
    "\n",
    "    model = als.fit(train)\n",
    "    \n",
    "    predictions = model.transform(test)\n",
    "    \n",
    "    evaluator = RegressionEvaluator(\n",
    "        metricName=\"rmse\",\n",
    "        labelCol=\"rating\",\n",
    "        predictionCol=\"prediction\"\n",
    "    )\n",
    "    \n",
    "    rmse = evaluator.evaluate(predictions)\n",
    "    print(f\"RMSE = {k}\")\n",
    "    data[\"k\"].append(k)\n",
    "    data[\"rmse\"].append(rmse)\n",
    "\n",
    "# model = als.fit(ratings)\n"
   ]
  },
  {
   "cell_type": "code",
   "execution_count": 16,
   "id": "136a3190-a441-4ba1-aca3-1efcd82e9caa",
   "metadata": {},
   "outputs": [
    {
     "name": "stdout",
     "output_type": "stream",
     "text": [
      "+---+------------------+\n",
      "|  k|              rmse|\n",
      "+---+------------------+\n",
      "| 20|0.8217506025092896|\n",
      "| 21|0.8224538287230314|\n",
      "| 22|0.8209502503758933|\n",
      "| 23|0.8215138093848042|\n",
      "| 24|0.8223128517106421|\n",
      "| 25|0.8226737041137376|\n",
      "+---+------------------+\n",
      "\n"
     ]
    }
   ],
   "source": [
    "rows = [{\"k\": k, \"rmse\": rmse} for k, rmse in zip(data[\"k\"], data[\"rmse\"])]\n",
    "\n",
    "# Crear el DataFrame\n",
    "dic = spark.createDataFrame(rows)\n",
    "\n",
    "dic.show()"
   ]
  },
  {
   "cell_type": "markdown",
   "id": "1342282b-abe1-41c6-980b-03aac0b67e6c",
   "metadata": {},
   "source": [
    "### Visualización de los Ranks junto con sus RMSE"
   ]
  },
  {
   "cell_type": "code",
   "execution_count": 17,
   "id": "32c0fd3b-d8cb-42db-82ba-e013ce89519c",
   "metadata": {},
   "outputs": [
    {
     "name": "stderr",
     "output_type": "stream",
     "text": [
      "/tmp/ipykernel_96/1894167424.py:9: UserWarning: No artists with labels found to put in legend.  Note that artists whose label start with an underscore are ignored when legend() is called with no argument.\n",
      "  plt.legend(title=\"Comunidad Autónoma\")\n"
     ]
    },
    {
     "data": {
      "image/png": "[encoded data removed]",
      "text/plain": [
       "<Figure size 1300x600 with 1 Axes>"
      ]
     },
     "metadata": {},
     "output_type": "display_data"
    }
   ],
   "source": [
    "import matplotlib.pyplot as plt\n",
    "import seaborn as sns\n",
    "dd = dic.toPandas()\n",
    "plt.figure(figsize=(13, 6))\n",
    "sns.lineplot(data=dd, x=\"k\", y=\"rmse\", marker=\"o\")\n",
    "plt.title(\"Diagrama de Codo\")\n",
    "plt.xlabel(\"K\")\n",
    "plt.ylabel(\"RMSE\")\n",
    "plt.grid(True)\n",
    "plt.show();"
   ]
  },
  {
   "cell_type": "markdown",
   "id": "25a5caf3-db88-4ec5-8e45-63801f12a62c",
   "metadata": {},
   "source": [
    "### Prueba de modelo ALS con Rank entre 18 y 22 y cambiando el parámetro alfa y las iteraciones máximas"
   ]
  },
  {
   "cell_type": "code",
   "execution_count": null,
   "id": "85c3d429-8a40-4dd1-83b1-5c329b79cc65",
   "metadata": {},
   "outputs": [
    {
     "name": "stdout",
     "output_type": "stream",
     "text": [
      "rank=18, reg=0.05, iter=10 => RMSE=0.8125\n",
      "rank=18, reg=0.05, iter=12 => RMSE=0.8078\n",
      "rank=18, reg=0.05, iter=13 => RMSE=0.8061\n",
      "rank=18, reg=0.05, iter=15 => RMSE=0.8034\n",
      "rank=19, reg=0.05, iter=10 => RMSE=0.8129\n",
      "rank=19, reg=0.05, iter=12 => RMSE=0.8082\n",
      "rank=19, reg=0.05, iter=13 => RMSE=0.8064\n",
      "rank=19, reg=0.05, iter=15 => RMSE=0.8036\n",
      "rank=20, reg=0.05, iter=10 => RMSE=0.8115\n",
      "rank=20, reg=0.05, iter=12 => RMSE=0.8070\n",
      "rank=20, reg=0.05, iter=13 => RMSE=0.8052\n",
      "rank=20, reg=0.05, iter=15 => RMSE=0.8026\n",
      "rank=21, reg=0.05, iter=10 => RMSE=0.8122\n",
      "rank=21, reg=0.05, iter=12 => RMSE=0.8072\n",
      "rank=21, reg=0.05, iter=13 => RMSE=0.8054\n",
      "rank=21, reg=0.05, iter=15 => RMSE=0.8025\n"
     ]
    },
    {
     "name": "stderr",
     "output_type": "stream",
     "text": [
      "ERROR:root:KeyboardInterrupt while sending command.\n",
      "Traceback (most recent call last):\n",
      "  File \"/usr/local/spark/python/lib/py4j-0.10.9.7-src.zip/py4j/java_gateway.py\", line 1038, in send_command\n",
      "    response = connection.send_command(command)\n",
      "  File \"/usr/local/spark/python/lib/py4j-0.10.9.7-src.zip/py4j/clientserver.py\", line 511, in send_command\n",
      "    answer = smart_decode(self.stream.readline()[:-1])\n",
      "  File \"/opt/conda/envs/recommender-env/lib/python3.9/socket.py\", line 716, in readinto\n",
      "    return self._sock.recv_into(b)\n",
      "KeyboardInterrupt\n"
     ]
    }
   ],
   "source": [
    "ranks = [18,19,20,21,22]\n",
    "regParams = [0.05]\n",
    "maxIters = [10,12,13, 15]\n",
    "\n",
    "results = []\n",
    "(train, test) = ratings.randomSplit([0.8, 0.2],42)\n",
    "for rank in ranks:\n",
    "    for reg in regParams:\n",
    "        for iter in maxIters:\n",
    "            als = ALS(\n",
    "                userCol=\"userId\", itemCol=\"movieId\", ratingCol=\"rating\",\n",
    "                coldStartStrategy=\"drop\", nonnegative=True,\n",
    "                rank=rank, regParam=reg, maxIter=iter\n",
    "            )\n",
    "            model = als.fit(train)\n",
    "            predictions = model.transform(test)\n",
    "            evaluator = RegressionEvaluator(metricName=\"rmse\", labelCol=\"rating\", predictionCol=\"prediction\")\n",
    "            rmse = evaluator.evaluate(predictions)\n",
    "            results.append((rank, reg, iter, rmse))\n",
    "            print(f\"rank={rank}, reg={reg}, iter={iter} => RMSE={rmse:.4f}\")\n"
   ]
  },
  {
   "cell_type": "markdown",
   "id": "451cfaab-d4ff-4311-b9fc-f4d134ddb8d4",
   "metadata": {},
   "source": [
    "### Modelo final"
   ]
  },
  {
   "cell_type": "code",
   "execution_count": 4,
   "id": "41476ea2-0fef-494f-bb47-69eba1204b87",
   "metadata": {},
   "outputs": [
    {
     "name": "stdout",
     "output_type": "stream",
     "text": [
      "Modelo final con parámetros:\n",
      "    Rank: 19,\n",
      "    Alfa: 0.05,\n",
      "    MaxIter: 15,\n",
      "    RMSE: 0.8033495578489015\n"
     ]
    }
   ],
   "source": [
    "(train, test) = ratings.randomSplit([0.8, 0.2],42)\n",
    "als = ALS(\n",
    "                userCol=\"userId\", itemCol=\"movieId\", ratingCol=\"rating\",\n",
    "                coldStartStrategy=\"drop\", nonnegative=True,\n",
    "                rank=19, regParam=0.05, maxIter=15\n",
    "            )\n",
    "\n",
    "model = als.fit(train)\n",
    "predictions = model.transform(test)\n",
    "evaluator = RegressionEvaluator(metricName=\"rmse\", labelCol=\"rating\", predictionCol=\"prediction\")\n",
    "rmse = evaluator.evaluate(predictions)\n",
    "print(f\"\"\"Modelo final con parámetros:\n",
    "    Rank: 19,\n",
    "    Alfa: 0.05,\n",
    "    MaxIter: 15,\n",
    "    RMSE: {rmse}\"\"\")"
   ]
  },
  {
   "cell_type": "code",
   "execution_count": 5,
   "id": "10d33cb5-03b8-4fab-b55d-120732aa22bd",
   "metadata": {},
   "outputs": [],
   "source": [
    "# userFactors: userId + features (vector)\n",
    "user_factors = model.userFactors\n",
    "item_factors = model.itemFactors\n",
    "\n",
    "user_factors_pd = user_factors.toPandas()\n",
    "item_factors_pd = item_factors.toPandas()"
   ]
  },
  {
   "cell_type": "code",
   "execution_count": 8,
   "id": "693f848e-3353-43bf-a91e-1a37250b0d85",
   "metadata": {},
   "outputs": [],
   "source": [
    "with open(\"models/user_factors.pkl\", \"wb\") as f:\n",
    "    pickle.dump(user_factors_pd, f)\n",
    "\n",
    "with open(\"models/item_factors.pkl\", \"wb\") as f:\n",
    "    pickle.dump(item_factors_pd, f)"
   ]
  },
  {
   "cell_type": "code",
   "execution_count": 42,
   "id": "7e9c1cd3-585c-4b7c-8c10-f95f2938f5e8",
   "metadata": {},
   "outputs": [],
   "source": [
    "spark.stop()"
   ]
  },
  {
   "cell_type": "code",
   "execution_count": null,
   "id": "b5f60834-93cc-4dac-bf67-e9297c50262b",
   "metadata": {},
   "outputs": [],
   "source": []
  }
 ],
 "metadata": {
  "kernelspec": {
   "display_name": "Python 3 (ipykernel)",
   "language": "python",
   "name": "python3"
  },
  "language_info": {
   "codemirror_mode": {
    "name": "ipython",
    "version": 3
   },
   "file_extension": ".py",
   "mimetype": "text/x-python",
   "name": "python",
   "nbconvert_exporter": "python",
   "pygments_lexer": "ipython3",
   "version": "3.9.21"
  }
 },
 "nbformat": 4,
 "nbformat_minor": 5
}
